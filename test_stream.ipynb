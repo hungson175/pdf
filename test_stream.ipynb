{
 "cells": [
  {
   "cell_type": "code",
   "id": "initial_id",
   "metadata": {
    "collapsed": true,
    "ExecuteTime": {
     "end_time": "2024-09-07T09:36:08.029936Z",
     "start_time": "2024-09-07T09:36:07.668109Z"
    }
   },
   "source": [
    "from langchain.chat_models.openai import ChatOpenAI\n",
    "from langchain_core.prompts import ChatPromptTemplate\n",
    "from dotenv import load_dotenv\n",
    "load_dotenv()\n"
   ],
   "outputs": [
    {
     "data": {
      "text/plain": [
       "True"
      ]
     },
     "execution_count": 1,
     "metadata": {},
     "output_type": "execute_result"
    }
   ],
   "execution_count": 1
  },
  {
   "metadata": {
    "ExecuteTime": {
     "end_time": "2024-09-07T09:38:38.402477Z",
     "start_time": "2024-09-07T09:38:38.397664Z"
    }
   },
   "cell_type": "code",
   "source": [
    "chat = ChatOpenAI(streaming=True)\n",
    "prompt = ChatPromptTemplate.from_messages([\n",
    "    (\"human\",\"{content}\")\n",
    "])\n",
    "messages = prompt.format_messages(content=\"Tell me a joke\")\n"
   ],
   "id": "66af16891993dd36",
   "outputs": [],
   "execution_count": 8
  },
  {
   "metadata": {
    "ExecuteTime": {
     "end_time": "2024-09-07T09:38:40.812444Z",
     "start_time": "2024-09-07T09:38:39.968867Z"
    }
   },
   "cell_type": "code",
   "source": [
    "# output = chat(messages) # same as chat.__call__(messages)\n",
    "output = chat(messages)\n",
    "print(output)"
   ],
   "id": "745f398380491299",
   "outputs": [
    {
     "name": "stdout",
     "output_type": "stream",
     "text": [
      "content=\"Why don't scientists trust atoms?\\n\\nBecause they make up everything!\" response_metadata={'finish_reason': 'stop'} id='run-44f9fb41-2320-48a9-8d83-3b933f5ad48e-0'\n"
     ]
    }
   ],
   "execution_count": 9
  },
  {
   "metadata": {},
   "cell_type": "code",
   "outputs": [],
   "execution_count": null,
   "source": "",
   "id": "971d71a72f63bf92"
  }
 ],
 "metadata": {
  "kernelspec": {
   "display_name": "Python 3",
   "language": "python",
   "name": "python3"
  },
  "language_info": {
   "codemirror_mode": {
    "name": "ipython",
    "version": 2
   },
   "file_extension": ".py",
   "mimetype": "text/x-python",
   "name": "python",
   "nbconvert_exporter": "python",
   "pygments_lexer": "ipython2",
   "version": "2.7.6"
  }
 },
 "nbformat": 4,
 "nbformat_minor": 5
}
